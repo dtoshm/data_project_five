{
 "cells": [
  {
   "cell_type": "markdown",
   "id": "343c9866-cc50-47cb-9608-07e8487069f2",
   "metadata": {},
   "source": [
    "# Data Analysis Project 5: Pet Shelter Analysis"
   ]
  },
  {
   "cell_type": "markdown",
   "id": "68b35beb-d45b-4c07-ab26-c2bf77c934c7",
   "metadata": {},
   "source": [
    "Import Panda and CSVs"
   ]
  },
  {
   "cell_type": "code",
   "execution_count": 100,
   "id": "8c990c8e-7fba-48af-a08b-8c63a2ccf983",
   "metadata": {},
   "outputs": [],
   "source": [
    "import pandas as pd\n",
    "\n",
    "intakes_outcomes = pd.read_csv('archive/aac_intakes_outcomes.csv')\n",
    "aac_intakes = pd.read_csv('archive/aac_intakes.csv')\n",
    "aac_outcomes = pd.read_csv('archive/aac_outcomes.csv')"
   ]
  },
  {
   "cell_type": "markdown",
   "id": "4bddcb63-3e3d-4e16-bdbc-06c1660eeaa6",
   "metadata": {},
   "source": [
    "## 1. Is there an area where more pets are found?\n",
    "   - Find the top 5 places where animals are found so the shelter can coordinate with local volunteers and animal control to monitor these areas."
   ]
  },
  {
   "cell_type": "markdown",
   "id": "0857764f-1542-4b7e-ae6e-cc92bf9e77e1",
   "metadata": {},
   "source": [
    "Strategy\n",
    "- Return a series \"found_location\", count how many times each value appears, print the top five."
   ]
  },
  {
   "cell_type": "code",
   "execution_count": 98,
   "id": "ad842bc6-56b4-4395-ae4d-90367861709d",
   "metadata": {},
   "outputs": [
    {
     "name": "stdout",
     "output_type": "stream",
     "text": [
      "The top 5 places where animals are found are:\n",
      "- Austin (TX)14443\n",
      "- Outside Jurisdiction948\n",
      "- Travis (TX)921\n",
      "- 7201 Levander Loop in Austin (TX)517\n",
      "- Del Valle (TX)411\n"
     ]
    }
   ],
   "source": [
    "top_areas = aac_intakes['found_location'].value_counts().head()\n",
    "\n",
    "print(f\"The top 5 places where animals are found are:\")\n",
    "for label, value in top_areas.items():\n",
    "    print(f\"- {label}{value}\")"
   ]
  },
  {
   "cell_type": "markdown",
   "id": "3c37b7b9-594d-43b5-b978-8b8b5a757b1b",
   "metadata": {},
   "source": [
    "## 2. What is the average number of pets found in a month in the year 2015?\n",
    "   - Are there months where there is a higher number of animals found?\n",
    "   - Knowing the number of pets the shelter might see in a month can help them gather enough resources and donations to care for the animals they receive."
   ]
  },
  {
   "cell_type": "markdown",
   "id": "0b10004d-3bab-46f1-9e9d-50ac712db3a6",
   "metadata": {},
   "source": [
    "Strategy\n",
    "- Converted the datetime column to type datetime, filtered rows for 2015.\n",
    "- Group the intakes by month and count them.\n",
    "- Find the mean of the monthly intakes.\n",
    "- Months with a higher intake number than the mean.\n"
   ]
  },
  {
   "cell_type": "code",
   "execution_count": 133,
   "id": "bfe2ffff-23cd-493d-9a7e-93d540ff9533",
   "metadata": {},
   "outputs": [
    {
     "name": "stdout",
     "output_type": "stream",
     "text": [
      "The 2015 monthly mean was 1559.33 intakes.\n",
      "\n",
      "Months with intakes above the mean:\n",
      "- Month 5 had 2094 intakes.\n",
      "- Month 6 had 2189 intakes.\n",
      "- Month 7 had 1635 intakes.\n",
      "- Month 8 had 1718 intakes.\n",
      "- Month 9 had 1591 intakes.\n",
      "- Month 10 had 1740 intakes.\n"
     ]
    }
   ],
   "source": [
    "aac_intakes['datetime'] = pd.to_datetime(aac_intakes['datetime'])\n",
    "intakes_2015 = aac_intakes[aac_intakes['datetime'].dt.year == 2015]\n",
    "\n",
    "monthly_intakes = intakes_2015.groupby(intakes_2015['datetime'].dt.month).size()\n",
    "\n",
    "mean_intakes = monthly_intakes.mean()\n",
    "\n",
    "higher_months = monthly_intakes[monthly_intakes > mean_intakes]\n",
    "\n",
    "print(f\"The 2015 monthly mean was {average_intakes:.2f} intakes.\\n\")\n",
    "\n",
    "print(f\"Months with intakes above the mean:\")\n",
    "for label, value in higher_months.items():\n",
    "    print(f\"- Month {label} had {value} intakes.\")"
   ]
  },
  {
   "cell_type": "markdown",
   "id": "5db02099-2290-453c-b4f1-af49ebfe2fec",
   "metadata": {},
   "source": [
    "## 3. What is the ratio of incoming pets vs. adopted pets?\n",
    "   - This key metric helps the shelter know how they are doing"
   ]
  },
  {
   "cell_type": "markdown",
   "id": "a23d30d8-1eb2-47eb-bb89-2bcba35d0133",
   "metadata": {},
   "source": [
    "Strategy\n",
    "- Find the total number intakes.\n",
    "- Find the total number of adoptions\n",
    "- Find the ratio of incoming pets vs adopted pets."
   ]
  },
  {
   "cell_type": "code",
   "execution_count": 137,
   "id": "126cab9d-af7d-4f72-bb04-d5368b80ba4b",
   "metadata": {},
   "outputs": [
    {
     "name": "stdout",
     "output_type": "stream",
     "text": [
      "The ratio of incoming pets vs. adopted pets is: 0.43\n"
     ]
    }
   ],
   "source": [
    "total_intakes = len(aac_intakes)\n",
    "\n",
    "total_adoptions = aac_outcomes[aac_outcomes['outcome_type'] == 'Adoption'].shape[0]\n",
    "\n",
    "ratio = total_adoptions / total_intakes\n",
    "\n",
    "print(f\"The ratio of incoming pets vs. adopted pets is: {ratio:.2f}\")"
   ]
  },
  {
   "cell_type": "markdown",
   "id": "a68881f9-37d6-4b37-9d9e-f10c65d1a486",
   "metadata": {},
   "source": [
    "## 4. What is the distribution of the types of animals in the sheler?\n",
    "   - Find the count of each type of animal in the shelter"
   ]
  },
  {
   "cell_type": "markdown",
   "id": "e70d2476-b786-4ff1-aa7b-7bc0279452b6",
   "metadata": {},
   "source": [
    "Strategy\n",
    "- Count the number occurences of each type in the animal type column."
   ]
  },
  {
   "cell_type": "code",
   "execution_count": 166,
   "id": "b9dbbd2a-169c-48ae-bc3e-60a92dd37da8",
   "metadata": {},
   "outputs": [
    {
     "name": "stdout",
     "output_type": "stream",
     "text": [
      "The count of types of animals:\n",
      "- Dog's: 45743\n",
      "- Cat's: 29659\n",
      "- Other's: 4434\n",
      "- Bird's: 342\n",
      "- Livestock's: 9\n"
     ]
    }
   ],
   "source": [
    "animal_types = aac_intakes['animal_type'].value_counts()\n",
    "\n",
    "print(f\"The count of types of animals:\")\n",
    "for label, value in animal_types.items():\n",
    "    print(f\"- {label}'s: {value}\")"
   ]
  },
  {
   "cell_type": "markdown",
   "id": "9ff5ab52-c003-4d41-b7dd-faf04b0be106",
   "metadata": {},
   "source": [
    "## 5. What are the adoption rates for specific breeds?\n",
    "   - Find the top 5 dog breeds in the shelter (based on count)\n",
    "   - Find the adoption percentage of each breed"
   ]
  },
  {
   "cell_type": "code",
   "execution_count": 21,
   "id": "172a18d9-4154-454a-90c5-3092371d34b7",
   "metadata": {},
   "outputs": [
    {
     "name": "stdout",
     "output_type": "stream",
     "text": [
      "The top five dog breeds are: \n",
      "breed\n",
      "Domestic Shorthair Mix      23519\n",
      "Pit Bull Mix                 6382\n",
      "Chihuahua Shorthair Mix      4860\n",
      "Labrador Retriever Mix       4841\n",
      "Domestic Medium Hair Mix     2337\n",
      "Name: count, dtype: int64\n"
     ]
    }
   ],
   "source": [
    "# Find total number of breeds and times they appear\n",
    "top_five_breeds = aac_intakes['breed'].value_counts().head()\n",
    "print(f\"The top five dog breeds are: \\n{top_five_breeds}\")"
   ]
  },
  {
   "cell_type": "code",
   "execution_count": 22,
   "id": "05812b4e-b68e-49de-ad0d-97aeae5a2124",
   "metadata": {},
   "outputs": [],
   "source": [
    "# Filter for adoptions and count the number of adoptions per breed\n",
    "adoptions_by_breed = aac_outcomes[aac_outcomes['outcome_type'] == 'Adoption']['breed'].value_counts()"
   ]
  },
  {
   "cell_type": "code",
   "execution_count": 23,
   "id": "2fa8cf00-a66c-47c9-b04b-46dd6a535386",
   "metadata": {},
   "outputs": [],
   "source": [
    "# Filter adoptions_by_breed by top_five_breed\n",
    "breed_filtered_adoptions = adoptions_by_breed[adoptions_by_breed.index.isin(top_five_breeds.index)]"
   ]
  },
  {
   "cell_type": "code",
   "execution_count": 24,
   "id": "2c3809fd-edfd-4b9f-99d7-b7d4b11feb75",
   "metadata": {},
   "outputs": [
    {
     "name": "stdout",
     "output_type": "stream",
     "text": [
      "The top 5 breeds adoption percentages are: \n",
      "breed\n",
      "Labrador Retriever Mix      49.659161\n",
      "Chihuahua Shorthair Mix     47.181070\n",
      "Domestic Medium Hair Mix    45.656825\n",
      "Domestic Shorthair Mix      43.067307\n",
      "Pit Bull Mix                37.323723\n",
      "Name: count, dtype: float64\n"
     ]
    }
   ],
   "source": [
    "# Get percentage\n",
    "breed_adoption_percentage = (breed_filtered_adoptions / top_five_breeds) * 100\n",
    "# Order the values descending\n",
    "breed_adoption_percentage = breed_adoption_percentage.sort_values(ascending=False)\n",
    "print(f\"The top 5 breeds adoption percentages are: \\n{breed_adoption_percentage}\")"
   ]
  },
  {
   "cell_type": "markdown",
   "id": "1eb65a14-8781-42c5-a9f8-9173c1fcbc0c",
   "metadata": {},
   "source": [
    "## 6. What are the adoption rates for different colorings?\n",
    "    - Find the top 5 colorings in the shelter (based on count)\n",
    "    - Find the adoption percentage of each color"
   ]
  },
  {
   "cell_type": "code",
   "execution_count": 26,
   "id": "50045a6a-caf1-431b-9f54-01aa1e922f96",
   "metadata": {},
   "outputs": [
    {
     "name": "stdout",
     "output_type": "stream",
     "text": [
      "The top 5 colors are: \n",
      "color\n",
      "Black/White    8340\n",
      "Black          6710\n",
      "Brown Tabby    4487\n",
      "Brown          3618\n",
      "White          2849\n",
      "Name: count, dtype: int64\n"
     ]
    }
   ],
   "source": [
    "# Find total number of colors and times they appear\n",
    "top_five_colors = aac_intakes['color'].value_counts().head()\n",
    "print(f\"The top 5 colors are: \\n{top_five_colors}\")"
   ]
  },
  {
   "cell_type": "code",
   "execution_count": 27,
   "id": "717c80d1-1a19-4f49-aa92-924526a70730",
   "metadata": {},
   "outputs": [],
   "source": [
    "# Filter for adoptions and count the number of adoptions per color\n",
    "adoptions_by_color = aac_outcomes[aac_outcomes['outcome_type'] == 'Adoption']['color'].value_counts()"
   ]
  },
  {
   "cell_type": "code",
   "execution_count": 28,
   "id": "a23ae3da-0a8c-4247-8fdd-40a5e5176f3c",
   "metadata": {},
   "outputs": [],
   "source": [
    "# Filter adoptions_by_color for top_five_colors\n",
    "color_filtered_adoptions = adoptions_by_color[adoptions_by_color.index.isin(top_five_colors.index)]"
   ]
  },
  {
   "cell_type": "code",
   "execution_count": 29,
   "id": "afd40a57-3d50-4e8c-8cb1-168edf51af4d",
   "metadata": {},
   "outputs": [
    {
     "name": "stdout",
     "output_type": "stream",
     "text": [
      "The top 5 colors adoption percentages are: \n",
      "color\n",
      "Black/White    45.731415\n",
      "Brown Tabby    42.656563\n",
      "Black          41.087928\n",
      "White          37.978238\n",
      "Brown          22.194583\n",
      "Name: count, dtype: float64\n"
     ]
    }
   ],
   "source": [
    "# Get percentage\n",
    "color_adoption_percentage = (color_filtered_adoptions / top_five_colors) * 100\n",
    "# Order the values descending\n",
    "color_adoption_percentage = color_adoption_percentage.sort_values(ascending=False)\n",
    "print(f\"The top 5 colors adoption percentages are: \\n{color_adoption_percentage}\")"
   ]
  },
  {
   "cell_type": "markdown",
   "id": "47128197-e0bc-425e-af60-9520a52289cc",
   "metadata": {},
   "source": [
    "## 7. About how many animals are spayed/neutered each month?\n",
    "   - This will help the shelter allocate resources and staff. Assume that all intact males and females will be spayed/neutered."
   ]
  },
  {
   "cell_type": "code",
   "execution_count": 31,
   "id": "2d26ac93-394b-4b2c-b1f2-dfef87926ee7",
   "metadata": {},
   "outputs": [
    {
     "name": "stdout",
     "output_type": "stream",
     "text": [
      "Number of animals spayed/neutered each month: \n",
      "1343.0\n"
     ]
    }
   ],
   "source": [
    "# Convert 'datetime' column to datetime\n",
    "aac_outcomes['datetime'] = pd.to_datetime(aac_outcomes['datetime'])\n",
    "\n",
    "# Create a 'month' column as a period object for monthly grouping\n",
    "aac_outcomes['month'] = aac_outcomes['datetime'].dt.to_period('M')\n",
    "\n",
    "# Filter for Spayed Females, Intact Females, Neutered Males and Intact Males\n",
    "spayed_female = aac_outcomes[aac_outcomes['sex_upon_outcome'] == 'Spayed Female']\n",
    "intact_female = aac_outcomes[aac_outcomes['sex_upon_outcome'] == 'Intact Female']\n",
    "neutered_male = aac_outcomes[aac_outcomes['sex_upon_outcome'] == 'Neutered Male']\n",
    "intact_male = aac_outcomes[aac_outcomes['sex_upon_outcome'] == 'Intact Male']\n",
    "\n",
    "# Concatenate all filtered outcomes into one DataFrame\n",
    "monthly_spayed_neutered = pd.concat([spayed_female, intact_female, neutered_male, intact_male])\n",
    "\n",
    "# Group by month and count occurrences\n",
    "monthly_counts = monthly_spayed_neutered.groupby('month').size().mean()\n",
    "\n",
    "print(f\"Number of animals spayed/neutered each month: \\n{monthly_counts}\")"
   ]
  },
  {
   "cell_type": "code",
   "execution_count": null,
   "id": "bd061bae-86ea-452a-83c8-d0050d035ec5",
   "metadata": {},
   "outputs": [],
   "source": []
  },
  {
   "cell_type": "code",
   "execution_count": null,
   "id": "b4b9aa4a-6b66-4f30-bda9-65da41f300eb",
   "metadata": {},
   "outputs": [],
   "source": []
  },
  {
   "cell_type": "code",
   "execution_count": null,
   "id": "1961231b-c499-4aab-812c-f53e05fb2250",
   "metadata": {},
   "outputs": [],
   "source": []
  },
  {
   "cell_type": "code",
   "execution_count": null,
   "id": "2dde2595-6fdd-4d20-8a55-34ab90fa98f0",
   "metadata": {},
   "outputs": [],
   "source": []
  }
 ],
 "metadata": {
  "kernelspec": {
   "display_name": "Python 3 (ipykernel)",
   "language": "python",
   "name": "python3"
  },
  "language_info": {
   "codemirror_mode": {
    "name": "ipython",
    "version": 3
   },
   "file_extension": ".py",
   "mimetype": "text/x-python",
   "name": "python",
   "nbconvert_exporter": "python",
   "pygments_lexer": "ipython3",
   "version": "3.12.7"
  }
 },
 "nbformat": 4,
 "nbformat_minor": 5
}
