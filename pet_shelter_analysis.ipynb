{
 "cells": [
  {
   "cell_type": "markdown",
   "id": "8824bd0d-d1d0-475f-9544-3da6c591f787",
   "metadata": {},
   "source": [
    "Import Pandas"
   ]
  },
  {
   "cell_type": "code",
   "execution_count": 2,
   "id": "022ff96c-4e79-4e17-be42-1ca0be1a7ebb",
   "metadata": {},
   "outputs": [],
   "source": [
    "import pandas as pd"
   ]
  },
  {
   "cell_type": "markdown",
   "id": "145a2286-1433-4a07-a1c4-7a4edde89dfc",
   "metadata": {},
   "source": [
    "Import CSVs"
   ]
  },
  {
   "cell_type": "code",
   "execution_count": 4,
   "id": "8c990c8e-7fba-48af-a08b-8c63a2ccf983",
   "metadata": {},
   "outputs": [],
   "source": [
    "intakes_outcomes = pd.read_csv('archive/aac_intakes_outcomes.csv')\n",
    "aac_intakes = pd.read_csv('archive/aac_intakes.csv')\n",
    "aac_outcomes = pd.read_csv('archive/aac_outcomes.csv')"
   ]
  },
  {
   "cell_type": "markdown",
   "id": "4bddcb63-3e3d-4e16-bdbc-06c1660eeaa6",
   "metadata": {},
   "source": [
    "1. Is there an area where more pets are found?"
   ]
  },
  {
   "cell_type": "markdown",
   "id": "2dd954db-4fd3-4bfa-a141-d28a5f353606",
   "metadata": {},
   "source": [
    "Return a series of \"found_location\", count how many times each value appears, slice the top five."
   ]
  },
  {
   "cell_type": "code",
   "execution_count": 7,
   "id": "ad842bc6-56b4-4395-ae4d-90367861709d",
   "metadata": {},
   "outputs": [
    {
     "data": {
      "text/plain": [
       "found_location\n",
       "Austin (TX)                          14443\n",
       "Outside Jurisdiction                   948\n",
       "Travis (TX)                            921\n",
       "7201 Levander Loop in Austin (TX)      517\n",
       "Del Valle (TX)                         411\n",
       "Name: count, dtype: int64"
      ]
     },
     "execution_count": 7,
     "metadata": {},
     "output_type": "execute_result"
    }
   ],
   "source": [
    "aac_intakes['found_location'].value_counts()[:5]"
   ]
  }
 ],
 "metadata": {
  "kernelspec": {
   "display_name": "Python 3 (ipykernel)",
   "language": "python",
   "name": "python3"
  },
  "language_info": {
   "codemirror_mode": {
    "name": "ipython",
    "version": 3
   },
   "file_extension": ".py",
   "mimetype": "text/x-python",
   "name": "python",
   "nbconvert_exporter": "python",
   "pygments_lexer": "ipython3",
   "version": "3.12.7"
  }
 },
 "nbformat": 4,
 "nbformat_minor": 5
}
