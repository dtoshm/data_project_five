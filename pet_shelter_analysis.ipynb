{
 "cells": [
  {
   "cell_type": "markdown",
   "id": "343c9866-cc50-47cb-9608-07e8487069f2",
   "metadata": {},
   "source": [
    "# Data Analysis Project 5: Pet Shelter Analysis"
   ]
  },
  {
   "cell_type": "markdown",
   "id": "68b35beb-d45b-4c07-ab26-c2bf77c934c7",
   "metadata": {},
   "source": [
    "Import Panda and CSVs"
   ]
  },
  {
   "cell_type": "code",
   "execution_count": 111,
   "id": "8c990c8e-7fba-48af-a08b-8c63a2ccf983",
   "metadata": {},
   "outputs": [],
   "source": [
    "import pandas as pd\n",
    "\n",
    "intakes_outcomes = pd.read_csv('archive/aac_intakes_outcomes.csv')\n",
    "intakes = pd.read_csv('archive/aac_intakes.csv')\n",
    "outcomes = pd.read_csv('archive/aac_outcomes.csv')"
   ]
  },
  {
   "cell_type": "markdown",
   "id": "4bddcb63-3e3d-4e16-bdbc-06c1660eeaa6",
   "metadata": {},
   "source": [
    "## 1. Is there an area where more pets are found?\n",
    "   - Find the top 5 places where animals are found so the shelter can coordinate with local volunteers and animal control to monitor these areas."
   ]
  },
  {
   "cell_type": "markdown",
   "id": "0857764f-1542-4b7e-ae6e-cc92bf9e77e1",
   "metadata": {},
   "source": [
    "Strategy\n",
    "- Get the top 5 locations using \".value_counts().head()\" from intakes['found_location'] and assign them to 'top_areas' variable\n",
    "- Print the answer"
   ]
  },
  {
   "cell_type": "code",
   "execution_count": 112,
   "id": "ad842bc6-56b4-4395-ae4d-90367861709d",
   "metadata": {},
   "outputs": [
    {
     "name": "stdout",
     "output_type": "stream",
     "text": [
      "The top 5 places animals where found are:\n",
      "- Austin (TX): 14443 animals found.\n",
      "- Outside Jurisdiction: 948 animals found.\n",
      "- Travis (TX): 921 animals found.\n",
      "- 7201 Levander Loop in Austin (TX): 517 animals found.\n",
      "- Del Valle (TX): 411 animals found.\n"
     ]
    }
   ],
   "source": [
    "top_areas = intakes['found_location'].value_counts().head()\n",
    "\n",
    "print(f\"The top 5 places animals where found are:\")\n",
    "for label, value in top_areas.items():\n",
    "    print(f\"- {label}: {value} animals found.\")"
   ]
  },
  {
   "cell_type": "markdown",
   "id": "3c37b7b9-594d-43b5-b978-8b8b5a757b1b",
   "metadata": {},
   "source": [
    "## 2. What is the average number of pets found in a month in the year 2015?\n",
    "   - Are there months where there is a higher number of animals found?\n",
    "   - Knowing the number of pets the shelter might see in a month can help them gather enough resources and donations to care for the animals they receive."
   ]
  },
  {
   "cell_type": "markdown",
   "id": "0b10004d-3bab-46f1-9e9d-50ac712db3a6",
   "metadata": {},
   "source": [
    "Strategy\n",
    "- Converted the datetime column to type datetime\n",
    "- Filtered rows for 2015 intakes\n",
    "- Group the intakes by month and count their size\n",
    "- Calculate the mean of the monthly intakes\n",
    "- Find months with a higher intake number than the mean\n",
    "- Print results"
   ]
  },
  {
   "cell_type": "code",
   "execution_count": 113,
   "id": "bfe2ffff-23cd-493d-9a7e-93d540ff9533",
   "metadata": {},
   "outputs": [
    {
     "name": "stdout",
     "output_type": "stream",
     "text": [
      "The 2015 monthly mean was 1559.33 intakes.\n",
      "Months with intakes above the mean:\n",
      "- Month 5 had 2094 intakes.\n",
      "- Month 6 had 2189 intakes.\n",
      "- Month 7 had 1635 intakes.\n",
      "- Month 8 had 1718 intakes.\n",
      "- Month 9 had 1591 intakes.\n",
      "- Month 10 had 1740 intakes.\n"
     ]
    }
   ],
   "source": [
    "intakes['datetime'] = pd.to_datetime(intakes['datetime'])\n",
    "\n",
    "intakes_2015 = intakes[intakes['datetime'].dt.year == 2015]\n",
    "\n",
    "monthly_intakes = intakes_2015.groupby(intakes_2015['datetime'].dt.month).size()\n",
    "\n",
    "mean_intakes = monthly_intakes.mean()\n",
    "\n",
    "higher_months = monthly_intakes[monthly_intakes > mean_intakes]\n",
    "\n",
    "print(f\"The 2015 monthly mean was {mean_intakes:.2f} intakes.\")\n",
    "print(f\"Months with intakes above the mean:\")\n",
    "for label, value in higher_months.items():\n",
    "    print(f\"- Month {label} had {value} intakes.\")"
   ]
  },
  {
   "cell_type": "markdown",
   "id": "5db02099-2290-453c-b4f1-af49ebfe2fec",
   "metadata": {},
   "source": [
    "## 3. What is the ratio of incoming pets vs. adopted pets?\n",
    "   - This key metric helps the shelter know how they are doing"
   ]
  },
  {
   "cell_type": "markdown",
   "id": "a23d30d8-1eb2-47eb-bb89-2bcba35d0133",
   "metadata": {},
   "source": [
    "Strategy\n",
    "- Calculate the total number intakes\n",
    "- Calculate the total number of adoptions using the dimensions of the filtered dataframe\n",
    "- Calculate the ratio of incoming pets vs adopted pets\n",
    "- Print Answer"
   ]
  },
  {
   "cell_type": "code",
   "execution_count": 114,
   "id": "126cab9d-af7d-4f72-bb04-d5368b80ba4b",
   "metadata": {},
   "outputs": [
    {
     "name": "stdout",
     "output_type": "stream",
     "text": [
      "The ratio of incoming pets vs. adopted pets is: 0.43\n"
     ]
    }
   ],
   "source": [
    "total_intakes = len(intakes)\n",
    "\n",
    "total_adoptions = outcomes[outcomes['outcome_type'] == 'Adoption'].shape[0]\n",
    "\n",
    "ratio = total_adoptions / total_intakes\n",
    "\n",
    "print(f\"The ratio of incoming pets vs. adopted pets is: {ratio:.2f}\")"
   ]
  },
  {
   "cell_type": "markdown",
   "id": "a68881f9-37d6-4b37-9d9e-f10c65d1a486",
   "metadata": {},
   "source": [
    "## 4. What is the distribution of the types of animals in the sheler?\n",
    "   - Find the count of each type of animal in the shelter"
   ]
  },
  {
   "cell_type": "markdown",
   "id": "e70d2476-b786-4ff1-aa7b-7bc0279452b6",
   "metadata": {},
   "source": [
    "Strategy\n",
    "- Count the number of occurences of each type of animal\n",
    "- Print answer"
   ]
  },
  {
   "cell_type": "code",
   "execution_count": 115,
   "id": "b9dbbd2a-169c-48ae-bc3e-60a92dd37da8",
   "metadata": {},
   "outputs": [
    {
     "name": "stdout",
     "output_type": "stream",
     "text": [
      "The count of types of animals:\n",
      "- Dog's: 45743\n",
      "- Cat's: 29659\n",
      "- Other's: 4434\n",
      "- Bird's: 342\n",
      "- Livestock's: 9\n"
     ]
    }
   ],
   "source": [
    "animal_types = intakes['animal_type'].value_counts()\n",
    "\n",
    "print(f\"The count of types of animals:\")\n",
    "for label, value in animal_types.items():\n",
    "    print(f\"- {label}'s: {value}\")"
   ]
  },
  {
   "cell_type": "markdown",
   "id": "9ff5ab52-c003-4d41-b7dd-faf04b0be106",
   "metadata": {},
   "source": [
    "## 5. What are the adoption rates for specific breeds?\n",
    "   - Find the top 5 dog breeds in the shelter (based on count)\n",
    "   - Find the adoption percentage of each breed"
   ]
  },
  {
   "cell_type": "markdown",
   "id": "393ec217-e83e-4516-acb9-4eb3a93f1a18",
   "metadata": {},
   "source": [
    "Strategy\n",
    "- Find total number of breeds, times they appear and return the top 5\n",
    "- Count the number of adoptions per breed\n",
    "- Filter adoptions by top 5 breeds\n",
    "- Calculate percentage\n",
    "- Print answer"
   ]
  },
  {
   "cell_type": "code",
   "execution_count": 116,
   "id": "2fa8cf00-a66c-47c9-b04b-46dd6a535386",
   "metadata": {},
   "outputs": [
    {
     "name": "stdout",
     "output_type": "stream",
     "text": [
      "The top 5 breeds adoption percentages are:\n",
      "- Chihuahua Shorthair Mix's: 47.18\n",
      "- Domestic Medium Hair Mix's: 45.66\n",
      "- Domestic Shorthair Mix's: 43.07\n",
      "- Labrador Retriever Mix's: 49.66\n",
      "- Pit Bull Mix's: 37.32\n"
     ]
    }
   ],
   "source": [
    "top_five_breeds = intakes['breed'].value_counts().head()\n",
    "\n",
    "adoptions_by_breed = outcomes[outcomes['outcome_type'] == 'Adoption']['breed'].value_counts()\n",
    "\n",
    "breed_filtered_adoptions = adoptions_by_breed[adoptions_by_breed.index.isin(top_five_breeds.index)]\n",
    "\n",
    "breed_adoption_percentage = (breed_filtered_adoptions / top_five_breeds) * 100\n",
    "\n",
    "print(f\"The top 5 breeds adoption percentages are:\")\n",
    "for label, value in breed_adoption_percentage.items():\n",
    "    print(f\"- {label}'s: {value:.2f}\")"
   ]
  },
  {
   "cell_type": "markdown",
   "id": "1eb65a14-8781-42c5-a9f8-9173c1fcbc0c",
   "metadata": {},
   "source": [
    "## 6. What are the adoption rates for different colorings?\n",
    "- Find the top 5 colorings in the shelter (based on count)\n",
    "- Find the adoption percentage of each color"
   ]
  },
  {
   "cell_type": "markdown",
   "id": "40aece0c-885b-4298-92cf-587d2b1ce64e",
   "metadata": {},
   "source": [
    "Strategy\n",
    "- Find total number of colors, count the times they appear and return the top 5\n",
    "- Filter for adoptions, count the number of adoptions per color and group them\n",
    "- Filter adoptions_by_color for top_five_colors\n",
    "- Get percentage\n",
    "- Order the values descending"
   ]
  },
  {
   "cell_type": "code",
   "execution_count": 117,
   "id": "717c80d1-1a19-4f49-aa92-924526a70730",
   "metadata": {},
   "outputs": [
    {
     "name": "stdout",
     "output_type": "stream",
     "text": [
      "The top 5 colors adoption percentages are:\n",
      "- Black/White's: 45.73\n",
      "- Brown Tabby's: 42.66\n",
      "- Black's: 41.09\n",
      "- White's: 37.98\n",
      "- Brown's: 22.19\n"
     ]
    }
   ],
   "source": [
    "top_five_colors = intakes['color'].value_counts().head()\n",
    "\n",
    "adoptions_by_color = outcomes[outcomes['outcome_type'] == 'Adoption']['color'].value_counts()\n",
    "\n",
    "color_filtered_adoptions = adoptions_by_color[adoptions_by_color.index.isin(top_five_colors.index)]\n",
    "\n",
    "color_adoption_percentage = ((color_filtered_adoptions / top_five_colors) * 100).sort_values(ascending=False)\n",
    "\n",
    "print(f\"The top 5 colors adoption percentages are:\")\n",
    "for label, value in color_adoption_percentage.items():\n",
    "    print(f\"- {label}'s: {value:.2f}\")"
   ]
  },
  {
   "cell_type": "markdown",
   "id": "47128197-e0bc-425e-af60-9520a52289cc",
   "metadata": {},
   "source": [
    "## 7. About how many animals are spayed/neutered each month?\n",
    "   - This will help the shelter allocate resources and staff. Assume that all intact males and females will be spayed/neutered."
   ]
  },
  {
   "cell_type": "markdown",
   "id": "778e4bcd-f287-4ebc-95be-72b03b447440",
   "metadata": {},
   "source": [
    "Strategy\n",
    "- Convert 'datetime' column to datetime\n",
    "- Create a 'month' column as a period object for monthly grouping\n",
    "- Filter for Spayed Females, Intact Females, Neutered Males and Intact Males\n",
    "- Concatenate all filtered outcomes into one DataFrame\n",
    "- Group by month and count occurrences\n",
    "- Print Answer"
   ]
  },
  {
   "cell_type": "code",
   "execution_count": 118,
   "id": "bd061bae-86ea-452a-83c8-d0050d035ec5",
   "metadata": {},
   "outputs": [
    {
     "name": "stdout",
     "output_type": "stream",
     "text": [
      "Number of animals spayed/neutered each month: 1343.0\n"
     ]
    }
   ],
   "source": [
    "outcomes['datetime'] = pd.to_datetime(outcomes['datetime'])\n",
    "\n",
    "outcomes['month'] = outcomes['datetime'].dt.to_period('M')\n",
    " \n",
    "spayed_female = outcomes[outcomes['sex_upon_outcome'] == 'Spayed Female']\n",
    "intact_female = outcomes[outcomes['sex_upon_outcome'] == 'Intact Female']\n",
    "neutered_male = outcomes[outcomes['sex_upon_outcome'] == 'Neutered Male']\n",
    "intact_male = outcomes[outcomes['sex_upon_outcome'] == 'Intact Male']\n",
    "\n",
    "monthly_spayed_neutered = pd.concat([spayed_female, intact_female, neutered_male, intact_male])\n",
    "\n",
    "monthly_counts = monthly_spayed_neutered.groupby('month').size().mean()\n",
    "\n",
    "print(f\"Number of animals spayed/neutered each month: {monthly_counts}\")"
   ]
  },
  {
   "cell_type": "markdown",
   "id": "3fb46c03-4613-4f78-8f06-89942529ef00",
   "metadata": {},
   "source": [
    "## Extra Credit"
   ]
  },
  {
   "cell_type": "markdown",
   "id": "fa680d98-04ab-4586-9e72-28c28fbd890f",
   "metadata": {},
   "source": [
    "## 1. How many animals in the shelter are repeats? Which animal was returned to the shelter the most?\n",
    "   - This means the animal has been brought in more than once."
   ]
  },
  {
   "cell_type": "markdown",
   "id": "1a24058b-772a-4b2c-ae25-127c4a3a6627",
   "metadata": {},
   "source": [
    "Strategy\n",
    "- Find how many animals are repeats (more than one intake)\n",
    "- Find the top returned animal's id\n",
    "- Search for the top animal id's name"
   ]
  },
  {
   "cell_type": "code",
   "execution_count": 119,
   "id": "2bb489a4-008d-4299-87c8-e687b122bcab",
   "metadata": {},
   "outputs": [
    {
     "name": "stdout",
     "output_type": "stream",
     "text": [
      "Number of repeat animals: 6154 \n",
      "Most returned animal's name: Lil Bit\n"
     ]
    }
   ],
   "source": [
    "repeat_animals = sum(intakes['animal_id'].value_counts() > 1)\n",
    "\n",
    "most_returned_animal_id = intakes['animal_id'].value_counts().nlargest(1).index[0]\n",
    "\n",
    "animal_name = intakes[intakes['animal_id'] == most_returned_animal_id]['name'].iloc[0]\n",
    "\n",
    "print(f\"Number of repeat animals: {repeat_animals} \\nMost returned animal's name: {animal_name}\")"
   ]
  },
  {
   "cell_type": "markdown",
   "id": "3b5408e2-e607-465e-9cd0-3159a79f0ec0",
   "metadata": {},
   "source": [
    "## 2. What are the adoption rates for the following age groups?\n",
    "- baby: 4 months and less\n",
    "- young: 5 months - 2 years\n",
    "- adult: 3 years - 10 years\n",
    "- senior 11+"
   ]
  },
  {
   "cell_type": "markdown",
   "id": "81221be0-ce92-4e3f-87cf-217bdc7f7550",
   "metadata": {},
   "source": [
    "Strategy\n",
    "- Define age bins and labels\n",
    "- Assign age groups (.25 accounts for leap years)\n",
    "- Calculate totals, adoption counts and create groupings\n",
    "- Calculate adoption rates (account for any not entered data)\n",
    "- Print answer"
   ]
  },
  {
   "cell_type": "code",
   "execution_count": 120,
   "id": "a3e4d7a1",
   "metadata": {},
   "outputs": [
    {
     "name": "stdout",
     "output_type": "stream",
     "text": [
      "Adoption Rates by Age Group:\n",
      "- young: 41.70%\n",
      "- baby: 51.17%\n",
      "- adult: 33.32%\n",
      "- senior: 21.02%\n"
     ]
    }
   ],
   "source": [
    "age_bins = [0, 1/3, 2, 10, float('inf')]\n",
    "age_labels = ['baby', 'young', 'adult', 'senior']\n",
    "\n",
    "intakes_outcomes['age_group'] = pd.cut(\n",
    "    intakes_outcomes['age_upon_outcome_(days)'] / 365.25,\n",
    "    bins=age_bins, \n",
    "    labels=age_labels, \n",
    "    include_lowest=True\n",
    ")\n",
    "\n",
    "total_counts = intakes_outcomes['age_group'].value_counts()\n",
    "adoption_counts = intakes_outcomes[\n",
    "    intakes_outcomes['outcome_type'].str.lower() == 'adoption'\n",
    "    ]['age_group'].value_counts()\n",
    "\n",
    "adoption_rates = (adoption_counts / total_counts * 100).fillna(0)\n",
    "\n",
    "print(f\"Adoption Rates by Age Group:\")\n",
    "for label, value in adoption_rates.items():\n",
    "    print(f\"- {label}: {value:.2f}%\")"
   ]
  },
  {
   "cell_type": "markdown",
   "id": "ab357642-a6fb-43fd-b10c-0c31457a7aa9",
   "metadata": {},
   "source": [
    "## 3. If spay/neuter for a dog costs \\$100 and a spay/neuter for a cat costs \\$50, how much did the shelter spend in 2015 on these procedures?"
   ]
  },
  {
   "cell_type": "markdown",
   "id": "d3d31f33",
   "metadata": {},
   "source": [
    "Strategy\n",
    "- Convert intakes_outcomes['outcome_datetime'] to datetime\n",
    "- Filter for 2015 and animals with intact sex upon intake also spayed and neutered upon outcome\n",
    "- Separate into categories\n",
    "- Calculate costs\n",
    "- Print Answer"
   ]
  },
  {
   "cell_type": "code",
   "execution_count": 121,
   "id": "34e6ae53",
   "metadata": {},
   "outputs": [
    {
     "name": "stdout",
     "output_type": "stream",
     "text": [
      "Cost for Spayed Dogs: $199,200.00\n",
      "Cost for Neutered Dogs: $229,600.00\n",
      "Cost for Spayed Cats: $65,400.00\n",
      "Cost for Neutered Cats: $66,150.00\n"
     ]
    }
   ],
   "source": [
    "intakes_outcomes['outcome_datetime'] = pd.to_datetime(intakes_outcomes['outcome_datetime'])\n",
    "\n",
    "filtered_2015 = intakes_outcomes[\n",
    "    (intakes_outcomes['outcome_datetime'].dt.year == 2015) &\n",
    "    (intakes_outcomes['sex_upon_intake'].str.contains('Intact', case=False)) &\n",
    "    ((intakes_outcomes['sex_upon_outcome'].str.contains('Spayed', case=False)) |\n",
    "     (intakes_outcomes['sex_upon_outcome'].str.contains('Neutered', case=False)))\n",
    "]\n",
    "\n",
    "spayed_dogs = filtered_2015[(filtered_2015['sex_upon_outcome'].str.contains('Spayed', case=False)) & (filtered_2015['animal_type'] == 'Dog')]\n",
    "neutered_dogs = filtered_2015[(filtered_2015['sex_upon_outcome'].str.contains('Neutered', case=False)) & (filtered_2015['animal_type'] == 'Dog')]\n",
    "spayed_cats = filtered_2015[(filtered_2015['sex_upon_outcome'].str.contains('Spayed', case=False)) & (filtered_2015['animal_type'] == 'Cat')]\n",
    "neutered_cats = filtered_2015[(filtered_2015['sex_upon_outcome'].str.contains('Neutered', case=False)) & (filtered_2015['animal_type'] == 'Cat')]\n",
    "\n",
    "cost_spayed_dogs = len(spayed_dogs) * 100\n",
    "cost_neutered_dogs = len(neutered_dogs) * 100\n",
    "cost_spayed_cats = len(spayed_cats) * 50\n",
    "cost_neutered_cats = len(neutered_cats) * 50\n",
    "\n",
    "print(f\"Cost for Spayed Dogs: ${cost_spayed_dogs:,.2f}\")\n",
    "print(f\"Cost for Neutered Dogs: ${cost_neutered_dogs:,.2f}\")\n",
    "print(f\"Cost for Spayed Cats: ${cost_spayed_cats:,.2f}\")\n",
    "print(f\"Cost for Neutered Cats: ${cost_neutered_cats:,.2f}\")"
   ]
  }
 ],
 "metadata": {
  "kernelspec": {
   "display_name": "base",
   "language": "python",
   "name": "python3"
  },
  "language_info": {
   "codemirror_mode": {
    "name": "ipython",
    "version": 3
   },
   "file_extension": ".py",
   "mimetype": "text/x-python",
   "name": "python",
   "nbconvert_exporter": "python",
   "pygments_lexer": "ipython3",
   "version": "3.12.7"
  }
 },
 "nbformat": 4,
 "nbformat_minor": 5
}
