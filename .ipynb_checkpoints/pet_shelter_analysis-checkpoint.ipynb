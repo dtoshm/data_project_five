{
 "cells": [
  {
   "cell_type": "markdown",
   "id": "8824bd0d-d1d0-475f-9544-3da6c591f787",
   "metadata": {},
   "source": [
    "Import Pandas"
   ]
  },
  {
   "cell_type": "code",
   "execution_count": 172,
   "id": "022ff96c-4e79-4e17-be42-1ca0be1a7ebb",
   "metadata": {},
   "outputs": [],
   "source": [
    "import pandas as pd\n",
    "import numpy as np"
   ]
  },
  {
   "cell_type": "markdown",
   "id": "145a2286-1433-4a07-a1c4-7a4edde89dfc",
   "metadata": {},
   "source": [
    "Import CSVs"
   ]
  },
  {
   "cell_type": "code",
   "execution_count": 4,
   "id": "8c990c8e-7fba-48af-a08b-8c63a2ccf983",
   "metadata": {},
   "outputs": [],
   "source": [
    "intakes_outcomes = pd.read_csv('archive/aac_intakes_outcomes.csv')\n",
    "aac_intakes = pd.read_csv('archive/aac_intakes.csv')\n",
    "aac_outcomes = pd.read_csv('archive/aac_outcomes.csv')"
   ]
  },
  {
   "cell_type": "markdown",
   "id": "4bddcb63-3e3d-4e16-bdbc-06c1660eeaa6",
   "metadata": {},
   "source": [
    "1. Is there an area where more pets are found?"
   ]
  },
  {
   "cell_type": "markdown",
   "id": "2dd954db-4fd3-4bfa-a141-d28a5f353606",
   "metadata": {},
   "source": [
    "Return a series of \"found_location\", count how many times each value appears, slice the top five."
   ]
  },
  {
   "cell_type": "code",
   "execution_count": 7,
   "id": "ad842bc6-56b4-4395-ae4d-90367861709d",
   "metadata": {},
   "outputs": [
    {
     "data": {
      "text/plain": [
       "found_location\n",
       "Austin (TX)                          14443\n",
       "Outside Jurisdiction                   948\n",
       "Travis (TX)                            921\n",
       "7201 Levander Loop in Austin (TX)      517\n",
       "Del Valle (TX)                         411\n",
       "Name: count, dtype: int64"
      ]
     },
     "execution_count": 7,
     "metadata": {},
     "output_type": "execute_result"
    }
   ],
   "source": [
    "aac_intakes['found_location'].value_counts()[:5]"
   ]
  },
  {
   "cell_type": "markdown",
   "id": "3c37b7b9-594d-43b5-b978-8b8b5a757b1b",
   "metadata": {},
   "source": [
    "2. What is the average number of pets found in a month in the year 2015?\n",
    "   Are there months wher ethere is a higher number of animals found?"
   ]
  },
  {
   "cell_type": "markdown",
   "id": "d6729232-2daa-480b-b391-0c8660c4e429",
   "metadata": {},
   "source": [
    "Converted the datetime column to type datetime, filtered rows for 2015."
   ]
  },
  {
   "cell_type": "code",
   "execution_count": 10,
   "id": "bfe2ffff-23cd-493d-9a7e-93d540ff9533",
   "metadata": {},
   "outputs": [],
   "source": [
    "aac_intakes['datetime'] = pd.to_datetime(aac_intakes['datetime'])\n",
    "intakes_2015 = aac_intakes[aac_intakes['datetime'].dt.year == 2015]"
   ]
  },
  {
   "cell_type": "markdown",
   "id": "81d0825d-9557-4525-8acc-82c56e736ef7",
   "metadata": {},
   "source": [
    "Group the intakes by month and count them."
   ]
  },
  {
   "cell_type": "code",
   "execution_count": 12,
   "id": "0b0f9712-d6aa-4d10-994b-280a191f0f51",
   "metadata": {
    "scrolled": true
   },
   "outputs": [],
   "source": [
    "monthly_intakes = intakes_2015.groupby(intakes_2015['datetime'].dt.month).size()"
   ]
  },
  {
   "cell_type": "markdown",
   "id": "728bddc5-50df-4d92-be83-eeabec646bfe",
   "metadata": {},
   "source": [
    "Find the mean of the monthly intakes."
   ]
  },
  {
   "cell_type": "code",
   "execution_count": 14,
   "id": "44e655b6-d4ea-45f4-ae45-2c75d3b30e50",
   "metadata": {},
   "outputs": [],
   "source": [
    "average_intakes = monthly_intakes.mean()"
   ]
  },
  {
   "cell_type": "markdown",
   "id": "ff129d99-376e-4fe5-817b-986e34e7d206",
   "metadata": {},
   "source": [
    "Months with a higher intake number than the mean."
   ]
  },
  {
   "cell_type": "code",
   "execution_count": 16,
   "id": "b2af9e6d-2849-402a-80b8-7ba6631316ac",
   "metadata": {},
   "outputs": [],
   "source": [
    "higher_months = monthly_intakes[monthly_intakes > average_intakes]"
   ]
  },
  {
   "cell_type": "code",
   "execution_count": 17,
   "id": "125a5b7e-7164-4362-9f8e-af4e2dd5da57",
   "metadata": {},
   "outputs": [
    {
     "name": "stdout",
     "output_type": "stream",
     "text": [
      "The 2015 monthly mean was 1559.33 intakes\n"
     ]
    }
   ],
   "source": [
    "print(f\"The 2015 monthly mean was {average_intakes:.2f} intakes\")"
   ]
  },
  {
   "cell_type": "code",
   "execution_count": 18,
   "id": "3954289b-0e07-4061-9088-d432efeb7526",
   "metadata": {},
   "outputs": [
    {
     "name": "stdout",
     "output_type": "stream",
     "text": [
      "Months with intakes above the mean \n",
      "datetime\n",
      "5     2094\n",
      "6     2189\n",
      "7     1635\n",
      "8     1718\n",
      "9     1591\n",
      "10    1740\n",
      "dtype: int64\n"
     ]
    }
   ],
   "source": [
    "print(f\"Months with intakes above the mean \\n{higher_months}\")"
   ]
  },
  {
   "cell_type": "markdown",
   "id": "5db02099-2290-453c-b4f1-af49ebfe2fec",
   "metadata": {},
   "source": [
    "3. What is the ratio of incoming pets vs. adopted pets?"
   ]
  },
  {
   "cell_type": "markdown",
   "id": "2ab711a5-d2b2-4b6b-845f-cd8e045ae572",
   "metadata": {},
   "source": [
    "Find the total number intakes."
   ]
  },
  {
   "cell_type": "code",
   "execution_count": 21,
   "id": "e0fb5c64-461e-4078-b0c8-51fcc679466b",
   "metadata": {},
   "outputs": [],
   "source": [
    "total_intakes = len(aac_intakes)"
   ]
  },
  {
   "cell_type": "markdown",
   "id": "e9a049d4-76ef-4390-861e-0a27907d3934",
   "metadata": {},
   "source": [
    "Find the total number of adoptions"
   ]
  },
  {
   "cell_type": "code",
   "execution_count": 23,
   "id": "126cab9d-af7d-4f72-bb04-d5368b80ba4b",
   "metadata": {},
   "outputs": [],
   "source": [
    "total_adoptions = aac_outcomes[aac_outcomes['outcome_type'] == 'Adoption'].shape[0]"
   ]
  },
  {
   "cell_type": "markdown",
   "id": "68fc5d8f-10d4-4bbd-b5e9-358cb2a45451",
   "metadata": {},
   "source": [
    "Find the ratio of incoming pets vs adopted pets."
   ]
  },
  {
   "cell_type": "code",
   "execution_count": 25,
   "id": "4c1d167d-7b72-475a-bef4-4c005bb0466b",
   "metadata": {},
   "outputs": [
    {
     "name": "stdout",
     "output_type": "stream",
     "text": [
      "The ratio of incoming pets vs. adopted pets is: 0.43\n"
     ]
    }
   ],
   "source": [
    "ratio = total_adoptions / total_intakes\n",
    "print(f\"The ratio of incoming pets vs. adopted pets is: {ratio:.2f}\")"
   ]
  },
  {
   "cell_type": "markdown",
   "id": "a68881f9-37d6-4b37-9d9e-f10c65d1a486",
   "metadata": {},
   "source": [
    "4. What is the distribution of the types of animals in the sheler?"
   ]
  },
  {
   "cell_type": "markdown",
   "id": "e38ed82d-7551-4119-809b-02c2a418d920",
   "metadata": {},
   "source": [
    "Count the number occurences of each type in the animal type column."
   ]
  },
  {
   "cell_type": "code",
   "execution_count": 28,
   "id": "9e3f13fa-de36-4f99-8e4b-05854e13d204",
   "metadata": {},
   "outputs": [],
   "source": [
    "animal_types = aac_intakes['animal_type'].value_counts()"
   ]
  },
  {
   "cell_type": "code",
   "execution_count": 29,
   "id": "9c8dc564-c4f4-45f4-8359-0acebe54ddba",
   "metadata": {},
   "outputs": [
    {
     "name": "stdout",
     "output_type": "stream",
     "text": [
      "The count of types of animals.\n",
      "animal_type\n",
      "Dog          45743\n",
      "Cat          29659\n",
      "Other         4434\n",
      "Bird           342\n",
      "Livestock        9\n",
      "Name: count, dtype: int64\n"
     ]
    }
   ],
   "source": [
    "print(f\"The count of types of animals.\\n{animal_types}\")"
   ]
  },
  {
   "cell_type": "markdown",
   "id": "3f6ac688-3de9-440e-bd93-76133f8604f5",
   "metadata": {},
   "source": [
    "For fun in percentages."
   ]
  },
  {
   "cell_type": "code",
   "execution_count": 31,
   "id": "b9dbbd2a-169c-48ae-bc3e-60a92dd37da8",
   "metadata": {},
   "outputs": [
    {
     "name": "stdout",
     "output_type": "stream",
     "text": [
      "The total percentage of types of animals.\n",
      "animal_type\n",
      "Dog          57.045406\n",
      "Cat          36.987292\n",
      "Other         5.529575\n",
      "Bird          0.426503\n",
      "Livestock     0.011224\n",
      "Name: count, dtype: float64\n"
     ]
    }
   ],
   "source": [
    "percentages = (animal_types / animal_types.sum()) * 100\n",
    "print(f\"The total percentage of types of animals.\\n{percentages}\")"
   ]
  },
  {
   "cell_type": "markdown",
   "id": "9ff5ab52-c003-4d41-b7dd-faf04b0be106",
   "metadata": {},
   "source": [
    "5. What are the adoption rates for specific breeds?"
   ]
  },
  {
   "cell_type": "code",
   "execution_count": 73,
   "id": "172a18d9-4154-454a-90c5-3092371d34b7",
   "metadata": {},
   "outputs": [
    {
     "name": "stdout",
     "output_type": "stream",
     "text": [
      "The top five dog breeds are \n",
      "breed\n",
      "Domestic Shorthair Mix      23519\n",
      "Pit Bull Mix                 6382\n",
      "Chihuahua Shorthair Mix      4860\n",
      "Labrador Retriever Mix       4841\n",
      "Domestic Medium Hair Mix     2337\n",
      "Name: count, dtype: int64\n"
     ]
    }
   ],
   "source": [
    "# Group the breeds by type, find the number of times they appear in the breed column and print the top 5.\n",
    "top_breed_counts = aac_intakes['breed'].value_counts().head()\n",
    "print(f\"The top five dog breeds are \\n{top_breed_counts}\")"
   ]
  },
  {
   "cell_type": "code",
   "execution_count": 218,
   "id": "33699ec9-ada0-4415-8c00-6d2fcbdecec1",
   "metadata": {},
   "outputs": [],
   "source": [
    "# Find total number of breeds and times they appear\n",
    "total_breeds = aac_intakes['breed'].value_counts()\n",
    "# total_breeds"
   ]
  },
  {
   "cell_type": "code",
   "execution_count": 220,
   "id": "de028330-9b85-4c3d-b05b-580d2421d34e",
   "metadata": {},
   "outputs": [],
   "source": [
    "# Find the total number of adoptions\n",
    "adoptions_sum = aac_outcomes[aac_outcomes['outcome_type'] == 'Adoption'].shape[0]\n",
    "# adoptions_sum"
   ]
  },
  {
   "cell_type": "code",
   "execution_count": 222,
   "id": "05812b4e-b68e-49de-ad0d-97aeae5a2124",
   "metadata": {},
   "outputs": [],
   "source": [
    "# Filter for adoptions and count the number of adoptions per breed\n",
    "total_adoptions = aac_outcomes[aac_outcomes['outcome_type'] == 'Adoption']['breed'].value_counts()\n",
    "# total_adoptions"
   ]
  },
  {
   "cell_type": "code",
   "execution_count": 228,
   "id": "96660792-0daa-439a-96eb-b7aeb6b1903e",
   "metadata": {},
   "outputs": [
    {
     "data": {
      "text/plain": [
       "breed\n",
       "Pug               46.0\n",
       "Hamster Mix       29.0\n",
       "Pekingese         26.0\n",
       "Guinea Pig Mix    22.2\n",
       "Boston Terrier    18.0\n",
       "Name: count, dtype: float64"
      ]
     },
     "execution_count": 228,
     "metadata": {},
     "output_type": "execute_result"
    }
   ],
   "source": [
    "# Calculate the percentage for each breed\n",
    "# Get rid of any 0s\n",
    "total_breeds = total_breeds.replace(0, np.nan)\n",
    "# Get percentage\n",
    "adoption_percentage = total_breeds / total_adoptions\n",
    "adoption_percentage = adoption_percentage.sort_values(ascending=False)\n",
    "adoption_percentage.head()"
   ]
  },
  {
   "cell_type": "code",
   "execution_count": 127,
   "id": "0c73df04-0fac-4850-b1ff-e52dcf4c3a16",
   "metadata": {},
   "outputs": [],
   "source": []
  },
  {
   "cell_type": "code",
   "execution_count": null,
   "id": "2c3809fd-edfd-4b9f-99d7-b7d4b11feb75",
   "metadata": {},
   "outputs": [],
   "source": []
  },
  {
   "cell_type": "code",
   "execution_count": null,
   "id": "50045a6a-caf1-431b-9f54-01aa1e922f96",
   "metadata": {},
   "outputs": [],
   "source": []
  },
  {
   "cell_type": "code",
   "execution_count": null,
   "id": "717c80d1-1a19-4f49-aa92-924526a70730",
   "metadata": {},
   "outputs": [],
   "source": []
  }
 ],
 "metadata": {
  "kernelspec": {
   "display_name": "Python 3 (ipykernel)",
   "language": "python",
   "name": "python3"
  },
  "language_info": {
   "codemirror_mode": {
    "name": "ipython",
    "version": 3
   },
   "file_extension": ".py",
   "mimetype": "text/x-python",
   "name": "python",
   "nbconvert_exporter": "python",
   "pygments_lexer": "ipython3",
   "version": "3.12.7"
  }
 },
 "nbformat": 4,
 "nbformat_minor": 5
}
