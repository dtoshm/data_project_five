{
 "cells": [
  {
   "cell_type": "code",
   "execution_count": 1,
   "id": "022ff96c-4e79-4e17-be42-1ca0be1a7ebb",
   "metadata": {},
   "outputs": [],
   "source": [
    "# Import Libraries\n",
    "import pandas as pd"
   ]
  },
  {
   "cell_type": "code",
   "execution_count": 2,
   "id": "8c990c8e-7fba-48af-a08b-8c63a2ccf983",
   "metadata": {},
   "outputs": [],
   "source": [
    "# Import CSVs\n",
    "intakes_outcomes = pd.read_csv('archive/aac_intakes_outcomes.csv')\n",
    "aac_intakes = pd.read_csv('archive/aac_intakes.csv')\n",
    "aac_outcomes = pd.read_csv('archive/aac_outcomes.csv')"
   ]
  },
  {
   "cell_type": "markdown",
   "id": "4bddcb63-3e3d-4e16-bdbc-06c1660eeaa6",
   "metadata": {},
   "source": [
    "1. Is there an area where more pets are found?\n",
    "   - Find the top 5 places where animals are found so the shelter can coordinate with local volunteers and animal control to monitor these areas."
   ]
  },
  {
   "cell_type": "code",
   "execution_count": 4,
   "id": "ad842bc6-56b4-4395-ae4d-90367861709d",
   "metadata": {},
   "outputs": [
    {
     "name": "stdout",
     "output_type": "stream",
     "text": [
      "The top 5 places where animals are found are \n",
      "found_location\n",
      "Austin (TX)                          14443\n",
      "Outside Jurisdiction                   948\n",
      "Travis (TX)                            921\n",
      "7201 Levander Loop in Austin (TX)      517\n",
      "Del Valle (TX)                         411\n",
      "Name: count, dtype: int64\n"
     ]
    }
   ],
   "source": [
    "# Return a series of \"found_location\", count how many times each value appears, slice the top five.\n",
    "top_area = aac_intakes['found_location'].value_counts().head()\n",
    "print(f\"The top 5 places where animals are found are \\n{top_area}\")"
   ]
  },
  {
   "cell_type": "markdown",
   "id": "3c37b7b9-594d-43b5-b978-8b8b5a757b1b",
   "metadata": {},
   "source": [
    "2. What is the average number of pets found in a month in the year 2015?\n",
    "   - Are there months where there is a higher number of animals found?\n",
    "   - Knowing the number of pets the shelter might see in a month can help them gather enough resources and donations to care for the animals they receive."
   ]
  },
  {
   "cell_type": "code",
   "execution_count": 6,
   "id": "bfe2ffff-23cd-493d-9a7e-93d540ff9533",
   "metadata": {},
   "outputs": [],
   "source": [
    "# Converted the datetime column to type datetime, filtered rows for 2015.\n",
    "aac_intakes['datetime'] = pd.to_datetime(aac_intakes['datetime'])\n",
    "intakes_2015 = aac_intakes[aac_intakes['datetime'].dt.year == 2015]"
   ]
  },
  {
   "cell_type": "code",
   "execution_count": 7,
   "id": "0b0f9712-d6aa-4d10-994b-280a191f0f51",
   "metadata": {
    "scrolled": true
   },
   "outputs": [],
   "source": [
    "# Group the intakes by month and count them.\n",
    "monthly_intakes = intakes_2015.groupby(intakes_2015['datetime'].dt.month).size()"
   ]
  },
  {
   "cell_type": "code",
   "execution_count": 8,
   "id": "44e655b6-d4ea-45f4-ae45-2c75d3b30e50",
   "metadata": {},
   "outputs": [],
   "source": [
    "# Find the mean of the monthly intakes.\n",
    "average_intakes = monthly_intakes.mean()"
   ]
  },
  {
   "cell_type": "code",
   "execution_count": 9,
   "id": "b2af9e6d-2849-402a-80b8-7ba6631316ac",
   "metadata": {},
   "outputs": [],
   "source": [
    "# Months with a higher intake number than the mean.\n",
    "higher_months = monthly_intakes[monthly_intakes > average_intakes]"
   ]
  },
  {
   "cell_type": "code",
   "execution_count": 10,
   "id": "125a5b7e-7164-4362-9f8e-af4e2dd5da57",
   "metadata": {},
   "outputs": [
    {
     "name": "stdout",
     "output_type": "stream",
     "text": [
      "The 2015 monthly mean was 1559.33 intakes\n"
     ]
    }
   ],
   "source": [
    "print(f\"The 2015 monthly mean was {average_intakes:.2f} intakes\")"
   ]
  },
  {
   "cell_type": "code",
   "execution_count": 11,
   "id": "3954289b-0e07-4061-9088-d432efeb7526",
   "metadata": {},
   "outputs": [
    {
     "name": "stdout",
     "output_type": "stream",
     "text": [
      "Months with intakes above the mean \n",
      "datetime\n",
      "5     2094\n",
      "6     2189\n",
      "7     1635\n",
      "8     1718\n",
      "9     1591\n",
      "10    1740\n",
      "dtype: int64\n"
     ]
    }
   ],
   "source": [
    "print(f\"Months with intakes above the mean \\n{higher_months}\")"
   ]
  },
  {
   "cell_type": "markdown",
   "id": "5db02099-2290-453c-b4f1-af49ebfe2fec",
   "metadata": {},
   "source": [
    "3. What is the ratio of incoming pets vs. adopted pets?\n",
    "   - This key metric helps the shelter know how they are doing"
   ]
  },
  {
   "cell_type": "code",
   "execution_count": 13,
   "id": "e0fb5c64-461e-4078-b0c8-51fcc679466b",
   "metadata": {},
   "outputs": [],
   "source": [
    "# Find the total number intakes.\n",
    "total_intakes = len(aac_intakes)"
   ]
  },
  {
   "cell_type": "code",
   "execution_count": 14,
   "id": "126cab9d-af7d-4f72-bb04-d5368b80ba4b",
   "metadata": {},
   "outputs": [],
   "source": [
    "# Find the total number of adoptions\n",
    "total_adoptions = aac_outcomes[aac_outcomes['outcome_type'] == 'Adoption'].shape[0]"
   ]
  },
  {
   "cell_type": "code",
   "execution_count": 15,
   "id": "4c1d167d-7b72-475a-bef4-4c005bb0466b",
   "metadata": {},
   "outputs": [
    {
     "name": "stdout",
     "output_type": "stream",
     "text": [
      "The ratio of incoming pets vs. adopted pets is: 0.43\n"
     ]
    }
   ],
   "source": [
    "# Find the ratio of incoming pets vs adopted pets.\n",
    "ratio = total_adoptions / total_intakes\n",
    "print(f\"The ratio of incoming pets vs. adopted pets is: {ratio:.2f}\")"
   ]
  },
  {
   "cell_type": "markdown",
   "id": "a68881f9-37d6-4b37-9d9e-f10c65d1a486",
   "metadata": {},
   "source": [
    "4. What is the distribution of the types of animals in the sheler?\n",
    "   - Find the count of each type of animal in the shelter"
   ]
  },
  {
   "cell_type": "code",
   "execution_count": 17,
   "id": "9e3f13fa-de36-4f99-8e4b-05854e13d204",
   "metadata": {},
   "outputs": [
    {
     "name": "stdout",
     "output_type": "stream",
     "text": [
      "The count of types of animals.\n",
      "animal_type\n",
      "Dog          45743\n",
      "Cat          29659\n",
      "Other         4434\n",
      "Bird           342\n",
      "Livestock        9\n",
      "Name: count, dtype: int64\n"
     ]
    }
   ],
   "source": [
    "# Count the number occurences of each type in the animal type column.\n",
    "animal_types = aac_intakes['animal_type'].value_counts()\n",
    "print(f\"The count of types of animals.\\n{animal_types}\")"
   ]
  },
  {
   "cell_type": "code",
   "execution_count": 18,
   "id": "b9dbbd2a-169c-48ae-bc3e-60a92dd37da8",
   "metadata": {},
   "outputs": [
    {
     "name": "stdout",
     "output_type": "stream",
     "text": [
      "The total percentage of types of animals.\n",
      "animal_type\n",
      "Dog          57.045406\n",
      "Cat          36.987292\n",
      "Other         5.529575\n",
      "Bird          0.426503\n",
      "Livestock     0.011224\n",
      "Name: count, dtype: float64\n"
     ]
    }
   ],
   "source": [
    "# For fun in percentages.\n",
    "percentages = (animal_types / animal_types.sum()) * 100\n",
    "print(f\"The total percentage of types of animals.\\n{percentages}\")"
   ]
  },
  {
   "cell_type": "markdown",
   "id": "9ff5ab52-c003-4d41-b7dd-faf04b0be106",
   "metadata": {},
   "source": [
    "5. What are the adoption rates for specific breeds?\n",
    "   - Find the top 5 dog breeds in the shelter (based on count)\n",
    "   - Find the adoption percentage of each breed"
   ]
  },
  {
   "cell_type": "code",
   "execution_count": 20,
   "id": "172a18d9-4154-454a-90c5-3092371d34b7",
   "metadata": {},
   "outputs": [
    {
     "name": "stdout",
     "output_type": "stream",
     "text": [
      "The top five dog breeds are \n",
      "breed\n",
      "Domestic Shorthair Mix      23519\n",
      "Pit Bull Mix                 6382\n",
      "Chihuahua Shorthair Mix      4860\n",
      "Labrador Retriever Mix       4841\n",
      "Domestic Medium Hair Mix     2337\n",
      "Name: count, dtype: int64\n"
     ]
    }
   ],
   "source": [
    "# Find total number of breeds and times they appear\n",
    "top_five_breeds = aac_intakes['breed'].value_counts().head()\n",
    "print(f\"The top five dog breeds are \\n{top_five_breeds}\")"
   ]
  },
  {
   "cell_type": "code",
   "execution_count": 21,
   "id": "05812b4e-b68e-49de-ad0d-97aeae5a2124",
   "metadata": {},
   "outputs": [],
   "source": [
    "# Filter for adoptions and count the number of adoptions per breed\n",
    "adoptions_by_breed = aac_outcomes[aac_outcomes['outcome_type'] == 'Adoption']['breed'].value_counts()"
   ]
  },
  {
   "cell_type": "code",
   "execution_count": 22,
   "id": "2fa8cf00-a66c-47c9-b04b-46dd6a535386",
   "metadata": {},
   "outputs": [],
   "source": [
    "# Filter adoptions_by_breed by top_five_breed\n",
    "breed_filtered_adoptions = adoptions_by_breed[adoptions_by_breed.index.isin(top_five_breeds.index)]"
   ]
  },
  {
   "cell_type": "code",
   "execution_count": 23,
   "id": "2c3809fd-edfd-4b9f-99d7-b7d4b11feb75",
   "metadata": {},
   "outputs": [
    {
     "name": "stdout",
     "output_type": "stream",
     "text": [
      "The top 5 breeds adoption percentages are \n",
      "breed\n",
      "Labrador Retriever Mix      49.659161\n",
      "Chihuahua Shorthair Mix     47.181070\n",
      "Domestic Medium Hair Mix    45.656825\n",
      "Domestic Shorthair Mix      43.067307\n",
      "Pit Bull Mix                37.323723\n",
      "Name: count, dtype: float64\n"
     ]
    }
   ],
   "source": [
    "# Get percentage\n",
    "breed_adoption_percentage = (breed_filtered_adoptions / top_five_breeds) * 100\n",
    "# Order the values descending\n",
    "breed_adoption_percentage = breed_adoption_percentage.sort_values(ascending=False)\n",
    "print(f\"The top 5 breeds adoption percentages are \\n{breed_adoption_percentage}\")"
   ]
  },
  {
   "cell_type": "markdown",
   "id": "1eb65a14-8781-42c5-a9f8-9173c1fcbc0c",
   "metadata": {},
   "source": [
    "6. What are the adoption rates for different colorings?\n",
    "    - Find the top 5 colorings in the shelter (based on count)\n",
    "    - Find the adoption percentage of each color"
   ]
  },
  {
   "cell_type": "code",
   "execution_count": 25,
   "id": "50045a6a-caf1-431b-9f54-01aa1e922f96",
   "metadata": {},
   "outputs": [
    {
     "name": "stdout",
     "output_type": "stream",
     "text": [
      "The top 5 colors are \n",
      "color\n",
      "Black/White    8340\n",
      "Black          6710\n",
      "Brown Tabby    4487\n",
      "Brown          3618\n",
      "White          2849\n",
      "Name: count, dtype: int64\n"
     ]
    }
   ],
   "source": [
    "# Find total number of colors and times they appear\n",
    "top_five_colors = aac_intakes['color'].value_counts().head()\n",
    "print(f\"The top 5 colors are \\n{top_five_colors}\")"
   ]
  },
  {
   "cell_type": "code",
   "execution_count": 26,
   "id": "717c80d1-1a19-4f49-aa92-924526a70730",
   "metadata": {},
   "outputs": [],
   "source": [
    "# Filter for adoptions and count the number of adoptions per color\n",
    "adoptions_by_color = aac_outcomes[aac_outcomes['outcome_type'] == 'Adoption']['color'].value_counts()"
   ]
  },
  {
   "cell_type": "code",
   "execution_count": 27,
   "id": "a23ae3da-0a8c-4247-8fdd-40a5e5176f3c",
   "metadata": {},
   "outputs": [],
   "source": [
    "# Filter adoptions_by_color for top_five_colors\n",
    "color_filtered_adoptions = adoptions_by_color[adoptions_by_color.index.isin(top_five_colors.index)]"
   ]
  },
  {
   "cell_type": "code",
   "execution_count": 28,
   "id": "afd40a57-3d50-4e8c-8cb1-168edf51af4d",
   "metadata": {},
   "outputs": [
    {
     "name": "stdout",
     "output_type": "stream",
     "text": [
      "The top 5 colors adoption percentages are \n",
      "color\n",
      "Black/White    45.731415\n",
      "Brown Tabby    42.656563\n",
      "Black          41.087928\n",
      "White          37.978238\n",
      "Brown          22.194583\n",
      "Name: count, dtype: float64\n"
     ]
    }
   ],
   "source": [
    "# Get percentage\n",
    "color_adoption_percentage = (color_filtered_adoptions / top_five_colors) * 100\n",
    "# Order the values descending\n",
    "color_adoption_percentage = color_adoption_percentage.sort_values(ascending=False)\n",
    "print(f\"The top 5 colors adoption percentages are \\n{color_adoption_percentage}\")"
   ]
  }
 ],
 "metadata": {
  "kernelspec": {
   "display_name": "Python 3 (ipykernel)",
   "language": "python",
   "name": "python3"
  },
  "language_info": {
   "codemirror_mode": {
    "name": "ipython",
    "version": 3
   },
   "file_extension": ".py",
   "mimetype": "text/x-python",
   "name": "python",
   "nbconvert_exporter": "python",
   "pygments_lexer": "ipython3",
   "version": "3.12.7"
  }
 },
 "nbformat": 4,
 "nbformat_minor": 5
}
