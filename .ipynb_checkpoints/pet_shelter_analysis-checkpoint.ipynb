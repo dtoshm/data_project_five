{
 "cells": [
  {
   "cell_type": "markdown",
   "id": "343c9866-cc50-47cb-9608-07e8487069f2",
   "metadata": {},
   "source": [
    "# Data Analysis Project 5: Pet Shelter Analysis"
   ]
  },
  {
   "cell_type": "markdown",
   "id": "68b35beb-d45b-4c07-ab26-c2bf77c934c7",
   "metadata": {},
   "source": [
    "Import Panda and CSVs"
   ]
  },
  {
   "cell_type": "code",
   "execution_count": 3,
   "id": "8c990c8e-7fba-48af-a08b-8c63a2ccf983",
   "metadata": {},
   "outputs": [],
   "source": [
    "import pandas as pd\n",
    "\n",
    "intakes_outcomes = pd.read_csv('archive/aac_intakes_outcomes.csv')\n",
    "aac_intakes = pd.read_csv('archive/aac_intakes.csv')\n",
    "aac_outcomes = pd.read_csv('archive/aac_outcomes.csv')"
   ]
  },
  {
   "cell_type": "markdown",
   "id": "4bddcb63-3e3d-4e16-bdbc-06c1660eeaa6",
   "metadata": {},
   "source": [
    "## 1. Is there an area where more pets are found?\n",
    "   - Find the top 5 places where animals are found so the shelter can coordinate with local volunteers and animal control to monitor these areas."
   ]
  },
  {
   "cell_type": "markdown",
   "id": "0857764f-1542-4b7e-ae6e-cc92bf9e77e1",
   "metadata": {},
   "source": [
    "Strategy\n",
    "- Return a series \"found_location\", count how many times each value appears, print the top five."
   ]
  },
  {
   "cell_type": "code",
   "execution_count": 6,
   "id": "ad842bc6-56b4-4395-ae4d-90367861709d",
   "metadata": {},
   "outputs": [
    {
     "name": "stdout",
     "output_type": "stream",
     "text": [
      "The top 5 places where animals are found are:\n",
      "- Austin (TX)14443\n",
      "- Outside Jurisdiction948\n",
      "- Travis (TX)921\n",
      "- 7201 Levander Loop in Austin (TX)517\n",
      "- Del Valle (TX)411\n"
     ]
    }
   ],
   "source": [
    "top_areas = aac_intakes['found_location'].value_counts().head()\n",
    "\n",
    "print(f\"The top 5 places where animals are found are:\")\n",
    "for label, value in top_areas.items():\n",
    "    print(f\"- {label}{value}\")"
   ]
  },
  {
   "cell_type": "markdown",
   "id": "3c37b7b9-594d-43b5-b978-8b8b5a757b1b",
   "metadata": {},
   "source": [
    "## 2. What is the average number of pets found in a month in the year 2015?\n",
    "   - Are there months where there is a higher number of animals found?\n",
    "   - Knowing the number of pets the shelter might see in a month can help them gather enough resources and donations to care for the animals they receive."
   ]
  },
  {
   "cell_type": "markdown",
   "id": "0b10004d-3bab-46f1-9e9d-50ac712db3a6",
   "metadata": {},
   "source": [
    "Strategy\n",
    "- Converted the datetime column to type datetime, filtered rows for 2015.\n",
    "- Group the intakes by month and count them.\n",
    "- Find the mean of the monthly intakes.\n",
    "- Months with a higher intake number than the mean.\n"
   ]
  },
  {
   "cell_type": "code",
   "execution_count": 9,
   "id": "bfe2ffff-23cd-493d-9a7e-93d540ff9533",
   "metadata": {},
   "outputs": [
    {
     "name": "stdout",
     "output_type": "stream",
     "text": [
      "The 2015 monthly mean was 1559.33 intakes.\n",
      "\n",
      "Months with intakes above the mean:\n",
      "- Month 5 had 2094 intakes.\n",
      "- Month 6 had 2189 intakes.\n",
      "- Month 7 had 1635 intakes.\n",
      "- Month 8 had 1718 intakes.\n",
      "- Month 9 had 1591 intakes.\n",
      "- Month 10 had 1740 intakes.\n"
     ]
    }
   ],
   "source": [
    "aac_intakes['datetime'] = pd.to_datetime(aac_intakes['datetime'])\n",
    "intakes_2015 = aac_intakes[aac_intakes['datetime'].dt.year == 2015]\n",
    "\n",
    "monthly_intakes = intakes_2015.groupby(intakes_2015['datetime'].dt.month).size()\n",
    "\n",
    "mean_intakes = monthly_intakes.mean()\n",
    "\n",
    "higher_months = monthly_intakes[monthly_intakes > mean_intakes]\n",
    "\n",
    "print(f\"The 2015 monthly mean was {mean_intakes:.2f} intakes.\\n\")\n",
    "\n",
    "print(f\"Months with intakes above the mean:\")\n",
    "for label, value in higher_months.items():\n",
    "    print(f\"- Month {label} had {value} intakes.\")"
   ]
  },
  {
   "cell_type": "markdown",
   "id": "5db02099-2290-453c-b4f1-af49ebfe2fec",
   "metadata": {},
   "source": [
    "## 3. What is the ratio of incoming pets vs. adopted pets?\n",
    "   - This key metric helps the shelter know how they are doing"
   ]
  },
  {
   "cell_type": "markdown",
   "id": "a23d30d8-1eb2-47eb-bb89-2bcba35d0133",
   "metadata": {},
   "source": [
    "Strategy\n",
    "- Find the total number intakes.\n",
    "- Find the total number of adoptions\n",
    "- Find the ratio of incoming pets vs adopted pets."
   ]
  },
  {
   "cell_type": "code",
   "execution_count": 12,
   "id": "126cab9d-af7d-4f72-bb04-d5368b80ba4b",
   "metadata": {},
   "outputs": [
    {
     "name": "stdout",
     "output_type": "stream",
     "text": [
      "The ratio of incoming pets vs. adopted pets is: 0.43\n"
     ]
    }
   ],
   "source": [
    "total_intakes = len(aac_intakes)\n",
    "\n",
    "total_adoptions = aac_outcomes[aac_outcomes['outcome_type'] == 'Adoption'].shape[0]\n",
    "\n",
    "ratio = total_adoptions / total_intakes\n",
    "\n",
    "print(f\"The ratio of incoming pets vs. adopted pets is: {ratio:.2f}\")"
   ]
  },
  {
   "cell_type": "markdown",
   "id": "a68881f9-37d6-4b37-9d9e-f10c65d1a486",
   "metadata": {},
   "source": [
    "## 4. What is the distribution of the types of animals in the sheler?\n",
    "   - Find the count of each type of animal in the shelter"
   ]
  },
  {
   "cell_type": "markdown",
   "id": "e70d2476-b786-4ff1-aa7b-7bc0279452b6",
   "metadata": {},
   "source": [
    "Strategy\n",
    "- Count the number occurences of each type in the animal type column."
   ]
  },
  {
   "cell_type": "code",
   "execution_count": 15,
   "id": "b9dbbd2a-169c-48ae-bc3e-60a92dd37da8",
   "metadata": {},
   "outputs": [
    {
     "name": "stdout",
     "output_type": "stream",
     "text": [
      "The count of types of animals:\n",
      "- Dog's: 45743\n",
      "- Cat's: 29659\n",
      "- Other's: 4434\n",
      "- Bird's: 342\n",
      "- Livestock's: 9\n"
     ]
    }
   ],
   "source": [
    "animal_types = aac_intakes['animal_type'].value_counts()\n",
    "\n",
    "print(f\"The count of types of animals:\")\n",
    "for label, value in animal_types.items():\n",
    "    print(f\"- {label}'s: {value}\")"
   ]
  },
  {
   "cell_type": "markdown",
   "id": "9ff5ab52-c003-4d41-b7dd-faf04b0be106",
   "metadata": {},
   "source": [
    "## 5. What are the adoption rates for specific breeds?\n",
    "   - Find the top 5 dog breeds in the shelter (based on count)\n",
    "   - Find the adoption percentage of each breed"
   ]
  },
  {
   "cell_type": "markdown",
   "id": "393ec217-e83e-4516-acb9-4eb3a93f1a18",
   "metadata": {},
   "source": [
    "Strategy\n",
    "- Find total number of breeds, times they appear and return the top 5\n",
    "- Filter for adoptions and count the number of adoptions per breed\n",
    "- Filter 'adoptions_by_breed' by 'top_five_breed'\n",
    "- Calculate percentage"
   ]
  },
  {
   "cell_type": "code",
   "execution_count": 18,
   "id": "2fa8cf00-a66c-47c9-b04b-46dd6a535386",
   "metadata": {},
   "outputs": [
    {
     "name": "stdout",
     "output_type": "stream",
     "text": [
      "The top 5 breeds adoption percentages are:\n",
      "- Chihuahua Shorthair Mix's: 47.181069958847736\n",
      "- Domestic Medium Hair Mix's: 45.65682498930252\n",
      "- Domestic Shorthair Mix's: 43.067307283472935\n",
      "- Labrador Retriever Mix's: 49.65916133030366\n",
      "- Pit Bull Mix's: 37.323722970855535\n"
     ]
    }
   ],
   "source": [
    "top_five_breeds = aac_intakes['breed'].value_counts().head()\n",
    "\n",
    "adoptions_by_breed = aac_outcomes[aac_outcomes['outcome_type'] == 'Adoption']['breed'].value_counts()\n",
    "\n",
    "breed_filtered_adoptions = adoptions_by_breed[adoptions_by_breed.index.isin(top_five_breeds.index)]\n",
    "\n",
    "breed_adoption_percentage = (breed_filtered_adoptions / top_five_breeds) * 100\n",
    "\n",
    "print(f\"The top 5 breeds adoption percentages are:\")\n",
    "for label, value in breed_adoption_percentage.items():\n",
    "    print(f\"- {label}'s: {value}\")"
   ]
  },
  {
   "cell_type": "markdown",
   "id": "1eb65a14-8781-42c5-a9f8-9173c1fcbc0c",
   "metadata": {},
   "source": [
    "## 6. What are the adoption rates for different colorings?\n",
    "- Find the top 5 colorings in the shelter (based on count)\n",
    "- Find the adoption percentage of each color"
   ]
  },
  {
   "cell_type": "markdown",
   "id": "40aece0c-885b-4298-92cf-587d2b1ce64e",
   "metadata": {},
   "source": [
    "Strategy\n",
    "- Find total number of colors and times they appear and return the top 5\n",
    "- Filter for adoptions and count the number of adoptions per color\n",
    "- Filter adoptions_by_color for top_five_colors\n",
    "- Get percentage\n",
    "- Order the values descending"
   ]
  },
  {
   "cell_type": "code",
   "execution_count": 21,
   "id": "717c80d1-1a19-4f49-aa92-924526a70730",
   "metadata": {},
   "outputs": [
    {
     "name": "stdout",
     "output_type": "stream",
     "text": [
      "The top 5 colors adoption percentages are:\n",
      "- Black/White's: 45.73141486810551\n",
      "- Brown Tabby's: 42.656563405393364\n",
      "- Black's: 41.087928464977644\n",
      "- White's: 37.97823797823798\n",
      "- Brown's: 22.194582642343835\n"
     ]
    }
   ],
   "source": [
    "top_five_colors = aac_intakes['color'].value_counts().head()\n",
    "\n",
    "adoptions_by_color = aac_outcomes[aac_outcomes['outcome_type'] == 'Adoption']['color'].value_counts()\n",
    "\n",
    "color_filtered_adoptions = adoptions_by_color[adoptions_by_color.index.isin(top_five_colors.index)]\n",
    "\n",
    "color_adoption_percentage = ((color_filtered_adoptions / top_five_colors) * 100).sort_values(ascending=False)\n",
    "\n",
    "print(f\"The top 5 colors adoption percentages are:\")\n",
    "for label, value in color_adoption_percentage.items():\n",
    "    print(f\"- {label}'s: {value}\")"
   ]
  },
  {
   "cell_type": "markdown",
   "id": "47128197-e0bc-425e-af60-9520a52289cc",
   "metadata": {},
   "source": [
    "## 7. About how many animals are spayed/neutered each month?\n",
    "   - This will help the shelter allocate resources and staff. Assume that all intact males and females will be spayed/neutered."
   ]
  },
  {
   "cell_type": "markdown",
   "id": "778e4bcd-f287-4ebc-95be-72b03b447440",
   "metadata": {},
   "source": [
    "Strategy\n",
    "- Convert 'datetime' column to datetime\n",
    "- Create a 'month' column as a period object for monthly grouping\n",
    "- Filter for Spayed Females, Intact Females, Neutered Males and Intact Males\n",
    "- Concatenate all filtered outcomes into one DataFrame\n",
    "- Group by month and count occurrences"
   ]
  },
  {
   "cell_type": "code",
   "execution_count": 24,
   "id": "bd061bae-86ea-452a-83c8-d0050d035ec5",
   "metadata": {},
   "outputs": [
    {
     "name": "stdout",
     "output_type": "stream",
     "text": [
      "Number of animals spayed/neutered each month: 1343.0\n"
     ]
    }
   ],
   "source": [
    "aac_outcomes['datetime'] = pd.to_datetime(aac_outcomes['datetime'])\n",
    "\n",
    "aac_outcomes['month'] = aac_outcomes['datetime'].dt.to_period('M')\n",
    " \n",
    "spayed_female = aac_outcomes[aac_outcomes['sex_upon_outcome'] == 'Spayed Female']\n",
    "intact_female = aac_outcomes[aac_outcomes['sex_upon_outcome'] == 'Intact Female']\n",
    "neutered_male = aac_outcomes[aac_outcomes['sex_upon_outcome'] == 'Neutered Male']\n",
    "intact_male = aac_outcomes[aac_outcomes['sex_upon_outcome'] == 'Intact Male']\n",
    "\n",
    "monthly_spayed_neutered = pd.concat([spayed_female, intact_female, neutered_male, intact_male])\n",
    "\n",
    "monthly_counts = monthly_spayed_neutered.groupby('month').size().mean()\n",
    "\n",
    "print(f\"Number of animals spayed/neutered each month: {monthly_counts}\")"
   ]
  },
  {
   "cell_type": "markdown",
   "id": "3fb46c03-4613-4f78-8f06-89942529ef00",
   "metadata": {},
   "source": [
    "## Extra Credit"
   ]
  },
  {
   "cell_type": "markdown",
   "id": "fa680d98-04ab-4586-9e72-28c28fbd890f",
   "metadata": {},
   "source": [
    "## 1. How many animals in the shelter are repeats? Which animal was returned to the shelter the most?\n",
    "   - This means the animal has been brought in more than once."
   ]
  },
  {
   "cell_type": "markdown",
   "id": "1a24058b-772a-4b2c-ae25-127c4a3a6627",
   "metadata": {},
   "source": [
    "Strategy\n",
    "- Find how many animals are repeats\n",
    "- Find the top returned animal's id\n",
    "- Search for the top animal id's name"
   ]
  },
  {
   "cell_type": "code",
   "execution_count": 28,
   "id": "2bb489a4-008d-4299-87c8-e687b122bcab",
   "metadata": {},
   "outputs": [
    {
     "name": "stdout",
     "output_type": "stream",
     "text": [
      "Number of repeat animals: 6154 \n",
      "Most returned animal's name: Lil Bit\n"
     ]
    }
   ],
   "source": [
    "repeat_animals = sum(aac_intakes['animal_id'].value_counts() > 1)\n",
    "most_returned_animal_id = aac_intakes['animal_id'].value_counts().index[0]\n",
    "animal_name = aac_intakes[aac_intakes['animal_id'] == most_returned_animal_id]['name'].iloc[0]\n",
    "\n",
    "print(f\"Number of repeat animals: {repeat_animals} \\nMost returned animal's name: {animal_name}\")"
   ]
  },
  {
   "cell_type": "markdown",
   "id": "3b5408e2-e607-465e-9cd0-3159a79f0ec0",
   "metadata": {},
   "source": [
    "## 2. What are the adoption rates for the following age groups?\n",
    "- baby: 4 months and less\n",
    "- young: 5 months - 2 years\n",
    "- adult: 3 years - 10 years\n",
    "- senior 11+"
   ]
  },
  {
   "cell_type": "markdown",
   "id": "81221be0-ce92-4e3f-87cf-217bdc7f7550",
   "metadata": {},
   "source": [
    "Strategy\n",
    "- Filter for pets adopted and their ages upon adoption\n",
    "- Separate the months and years\n",
    "- "
   ]
  },
  {
   "cell_type": "code",
   "execution_count": null,
   "id": "4a00fb26-ca41-4f56-851b-13b44dd64687",
   "metadata": {},
   "outputs": [],
   "source": []
  },
  {
   "cell_type": "code",
   "execution_count": null,
   "id": "38953286-970f-4b12-afc9-4e33527d6f62",
   "metadata": {},
   "outputs": [],
   "source": []
  },
  {
   "cell_type": "code",
   "execution_count": 44,
   "id": "de3abc37-cd45-46be-aeea-cc059aca117e",
   "metadata": {},
   "outputs": [
    {
     "ename": "NameError",
     "evalue": "name 'babites_adopted' is not defined",
     "output_type": "error",
     "traceback": [
      "\u001b[0;31m---------------------------------------------------------------------------\u001b[0m",
      "\u001b[0;31mNameError\u001b[0m                                 Traceback (most recent call last)",
      "Cell \u001b[0;32mIn[44], line 54\u001b[0m\n\u001b[1;32m     51\u001b[0m \u001b[38;5;28;01mdef\u001b[39;00m \u001b[38;5;21madoption_perentage\u001b[39m(adopted, total):\n\u001b[1;32m     52\u001b[0m     \u001b[38;5;28;01mreturn\u001b[39;00m \u001b[38;5;28mlen\u001b[39m(adopted) \u001b[38;5;241m/\u001b[39m \u001b[38;5;28mlen\u001b[39m(total) \u001b[38;5;241m*\u001b[39m \u001b[38;5;241m100\u001b[39m\n\u001b[0;32m---> 54\u001b[0m calc_babies \u001b[38;5;241m=\u001b[39m adoption_perentage(babites_adopted, babies_total)\n",
      "\u001b[0;31mNameError\u001b[0m: name 'babites_adopted' is not defined"
     ]
    }
   ],
   "source": [
    "all_outcomes = aac_outcomes['age_upon_outcome']\n",
    "adoption_outcomes = aac_outcomes[aac_outcomes['outcome_type'] == 'Adoption']['age_upon_outcome']\n",
    "\n",
    "babies_total = []\n",
    "young_total = []\n",
    "adult_total = []\n",
    "senior_total = []\n",
    "\n",
    "babies_adopted = []\n",
    "young_adopted = []\n",
    "adult_adopted = []\n",
    "senior_adopted = []\n",
    "\n",
    "\n",
    "def group_total_outcomes(ages):\n",
    "    for age in ages:\n",
    "        if 'month' in str(age):\n",
    "            if int(age.split(\" \")[0]) <= 4:\n",
    "                babies_total.append(age)\n",
    "            elif int(age.split(\" \")[0]) > 4:\n",
    "                young_total.append(age)\n",
    "        elif 'year' in str(age):\n",
    "            if int(age.split(\" \")[0]) <= 2:\n",
    "                young_total.append(age)\n",
    "            elif int(age.split(\" \")[0]) > 2 and int(age.split(\" \")[0]) <= 10:\n",
    "                adult_total.append(age)\n",
    "            elif int(age.split()[0]) > 11:\n",
    "                senior_total.append(age)\n",
    "\n",
    "\n",
    "def group_adoption_outcomes(ages):\n",
    "    for age in ages:\n",
    "        if 'month' in str(age):\n",
    "            if int(age.split(\" \")[0]) <= 4:\n",
    "                babies_adopted.append(age)\n",
    "            elif int(age.split(\" \")[0]) > 4:\n",
    "                young_adopted.append(age)\n",
    "        elif 'year' in str(age):\n",
    "            if int(age.split(\" \")[0]) <= 2:\n",
    "                young_adopted.append(age)\n",
    "            elif int(age.split(\" \")[0]) > 2 and int(age.split(\" \")[0]) <= 10:\n",
    "                adult_adopted.append(age)\n",
    "            elif int(age.split()[0]) > 11:\n",
    "                senior_adopted.append(age)\n",
    "\n",
    "\n",
    "group_total_outcomes(all_outcomes)\n",
    "group_adoption_outcomes(adoption_outcomes)\n",
    "\n",
    "\n",
    "def adoption_perentage(adopted, total):\n",
    "    return len(adopted) / len(total) * 100\n",
    "\n",
    "calc_babies = adoption_perentage(babies_adopted, babies_total)\n",
    "\n",
    "\n",
    "\n"
   ]
  },
  {
   "cell_type": "code",
   "execution_count": null,
   "id": "8f81cbe6-1fca-4591-9a5c-2afaebf1b7c7",
   "metadata": {},
   "outputs": [],
   "source": []
  },
  {
   "cell_type": "code",
   "execution_count": null,
   "id": "dbf28d4b-394a-4620-82a3-9f7f6592f662",
   "metadata": {},
   "outputs": [],
   "source": []
  },
  {
   "cell_type": "code",
   "execution_count": null,
   "id": "9e025dbd-6b76-4f7c-9c86-dacf47ce1907",
   "metadata": {},
   "outputs": [],
   "source": []
  }
 ],
 "metadata": {
  "kernelspec": {
   "display_name": "Python 3 (ipykernel)",
   "language": "python",
   "name": "python3"
  },
  "language_info": {
   "codemirror_mode": {
    "name": "ipython",
    "version": 3
   },
   "file_extension": ".py",
   "mimetype": "text/x-python",
   "name": "python",
   "nbconvert_exporter": "python",
   "pygments_lexer": "ipython3",
   "version": "3.12.7"
  }
 },
 "nbformat": 4,
 "nbformat_minor": 5
}
