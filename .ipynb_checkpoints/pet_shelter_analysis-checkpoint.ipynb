{
 "cells": [
  {
   "cell_type": "markdown",
   "id": "8824bd0d-d1d0-475f-9544-3da6c591f787",
   "metadata": {},
   "source": [
    "Import Pandas"
   ]
  },
  {
   "cell_type": "code",
   "execution_count": 3,
   "id": "022ff96c-4e79-4e17-be42-1ca0be1a7ebb",
   "metadata": {},
   "outputs": [],
   "source": [
    "import pandas as pd"
   ]
  },
  {
   "cell_type": "markdown",
   "id": "145a2286-1433-4a07-a1c4-7a4edde89dfc",
   "metadata": {},
   "source": [
    "Import CSVs"
   ]
  },
  {
   "cell_type": "code",
   "execution_count": 5,
   "id": "8c990c8e-7fba-48af-a08b-8c63a2ccf983",
   "metadata": {},
   "outputs": [],
   "source": [
    "intakes_outcomes = pd.read_csv('archive/aac_intakes_outcomes.csv')\n",
    "aac_intakes = pd.read_csv('archive/aac_intakes.csv')\n",
    "aac_outcomes = pd.read_csv('archive/aac_outcomes.csv')"
   ]
  },
  {
   "cell_type": "markdown",
   "id": "4bddcb63-3e3d-4e16-bdbc-06c1660eeaa6",
   "metadata": {},
   "source": [
    "1. Is there an area where more pets are found?"
   ]
  },
  {
   "cell_type": "markdown",
   "id": "2dd954db-4fd3-4bfa-a141-d28a5f353606",
   "metadata": {},
   "source": [
    "Return a series of \"found_location\", count how many times each value appears, slice the top five."
   ]
  },
  {
   "cell_type": "code",
   "execution_count": 8,
   "id": "ad842bc6-56b4-4395-ae4d-90367861709d",
   "metadata": {},
   "outputs": [
    {
     "data": {
      "text/plain": [
       "found_location\n",
       "Austin (TX)                          14443\n",
       "Outside Jurisdiction                   948\n",
       "Travis (TX)                            921\n",
       "7201 Levander Loop in Austin (TX)      517\n",
       "Del Valle (TX)                         411\n",
       "Name: count, dtype: int64"
      ]
     },
     "execution_count": 8,
     "metadata": {},
     "output_type": "execute_result"
    }
   ],
   "source": [
    "aac_intakes['found_location'].value_counts()[:5]"
   ]
  },
  {
   "cell_type": "markdown",
   "id": "3c37b7b9-594d-43b5-b978-8b8b5a757b1b",
   "metadata": {},
   "source": [
    "2. What is the average number of pets found in a month in the year 2015?\n",
    "   Are there months wher ethere is a higher number of animals found?"
   ]
  },
  {
   "cell_type": "markdown",
   "id": "d6729232-2daa-480b-b391-0c8660c4e429",
   "metadata": {},
   "source": [
    "Converted the datetime column to type datetime, filtered rows for 2015."
   ]
  },
  {
   "cell_type": "code",
   "execution_count": 11,
   "id": "bfe2ffff-23cd-493d-9a7e-93d540ff9533",
   "metadata": {},
   "outputs": [],
   "source": [
    "aac_intakes['datetime'] = pd.to_datetime(aac_intakes['datetime'])\n",
    "intakes_2015 = aac_intakes[aac_intakes['datetime'].dt.year == 2015]"
   ]
  },
  {
   "cell_type": "markdown",
   "id": "81d0825d-9557-4525-8acc-82c56e736ef7",
   "metadata": {},
   "source": [
    "Group the intakes by month and count them."
   ]
  },
  {
   "cell_type": "code",
   "execution_count": 13,
   "id": "0b0f9712-d6aa-4d10-994b-280a191f0f51",
   "metadata": {
    "scrolled": true
   },
   "outputs": [
    {
     "data": {
      "text/plain": [
       "datetime\n",
       "1     1198\n",
       "2     1119\n",
       "3     1346\n",
       "4     1543\n",
       "5     2094\n",
       "6     2189\n",
       "7     1635\n",
       "8     1718\n",
       "9     1591\n",
       "10    1740\n",
       "11    1411\n",
       "12    1128\n",
       "dtype: int64"
      ]
     },
     "execution_count": 13,
     "metadata": {},
     "output_type": "execute_result"
    }
   ],
   "source": [
    "intakes_2015_monthly = intakes_2015.groupby(intakes_2015['datetime'].dt.month).size()\n",
    "intakes_2015_monthly"
   ]
  },
  {
   "cell_type": "code",
   "execution_count": null,
   "id": "2423436a-3270-4a31-a47a-273316d1c231",
   "metadata": {},
   "outputs": [],
   "source": []
  },
  {
   "cell_type": "code",
   "execution_count": null,
   "id": "44e655b6-d4ea-45f4-ae45-2c75d3b30e50",
   "metadata": {},
   "outputs": [],
   "source": []
  }
 ],
 "metadata": {
  "kernelspec": {
   "display_name": "Python 3 (ipykernel)",
   "language": "python",
   "name": "python3"
  },
  "language_info": {
   "codemirror_mode": {
    "name": "ipython",
    "version": 3
   },
   "file_extension": ".py",
   "mimetype": "text/x-python",
   "name": "python",
   "nbconvert_exporter": "python",
   "pygments_lexer": "ipython3",
   "version": "3.12.7"
  }
 },
 "nbformat": 4,
 "nbformat_minor": 5
}
